{
 "cells": [
  {
   "cell_type": "markdown",
   "metadata": {},
   "source": [
    "# Newton's Method for Optimization in Python \n",
    "\n",
    "## Introduction\n",
    "\n",
    "We will implement Newton's Method, a second order optimization algorithm from scratch in python. Given a real valued function $f(x)$, the goal is to find number(s) $c$ such that $f'(c) = 0.$ Suppose we have a function $f: \\mathbb{R} \\to \\mathbb{R}$, the Newton's metod gives us a itterative algorith to find the zero's of f(x). In particular, the itterative formula for finding $x^*$ such that f($x^*$) = 0 is \n",
    "\\begin{equation}\n",
    "x_{t+1} = x_t - \\frac{f(x_t)}{f'(x_t)},\n",
    "\\end{equation}\n",
    "\n",
    "where $t$ is the itteration index. As $t$ gets very large, it turns out that $x_{t+1}$ will get very close to $x_{t}$ and converge towards $x^*$. \n",
    "\n",
    "## Intuition behind Newton's method formula\n",
    "Again let's suppose $f: \\mathbb{R} \\to \\mathbb{R},$ and $f(x^*) = 0.$ We can approximate $f(x)$ at $x^*$ using the taylor series expansion, that is $$f(x^*) \\approx f(x) + f'(x)(x^*-x).$$ Now since $f(x^*) = 0,$ we can rearrage the above equation and get $$x^* \\approx x - \\frac{f(x)}{f'(x)},$$ if $x$ is somewhat close to $x^*$ this suggests the itterative Newton's method can find the zeros of $f(x).$\n",
    "\n",
    "## Application of Newton's method to IMDB movie data\n",
    "Now that we have a basic sense of the newton's method, we will use to estimate the parameters in a linear regression framework to model the relationship between IMDB's movies score (rating out of 10) and the movies gross sales (in dollars). We will use a data set from https://www.kaggle.com/deepmatrix/imdb-5000-movie-dataset. The data contains various statistics from IMDB for over 5000 movies. For our purposes we will only be interested in the IMDB rating and gross sales."
   ]
  },
  {
   "cell_type": "code",
   "execution_count": 38,
   "metadata": {},
   "outputs": [],
   "source": [
    "# Import the standard packages for doing math operations, data manipulation, and plotting\n",
    "import numpy as np\n",
    "import pandas as pd\n",
    "import matplotlib.pyplot as plt"
   ]
  },
  {
   "cell_type": "code",
   "execution_count": 39,
   "metadata": {},
   "outputs": [
    {
     "data": {
      "text/plain": [
       "array(['color', 'director_name', 'num_critic_for_reviews', 'duration',\n",
       "       'director_facebook_likes', 'actor_3_facebook_likes', 'actor_2_name',\n",
       "       'actor_1_facebook_likes', 'gross', 'genres', 'actor_1_name',\n",
       "       'movie_title', 'num_voted_users', 'cast_total_facebook_likes',\n",
       "       'actor_3_name', 'facenumber_in_poster', 'plot_keywords',\n",
       "       'movie_imdb_link', 'num_user_for_reviews', 'language', 'country',\n",
       "       'content_rating', 'budget', 'title_year', 'actor_2_facebook_likes',\n",
       "       'imdb_score', 'aspect_ratio', 'movie_facebook_likes'], dtype=object)"
      ]
     },
     "execution_count": 39,
     "metadata": {},
     "output_type": "execute_result"
    }
   ],
   "source": [
    "# Load the IMDB data\n",
    "movie_data = pd.read_csv(\"movie_metadata.csv\")\n",
    "\n",
    "# Show all the variables in the data set\n",
    "movie_data.columns.values"
   ]
  },
  {
   "cell_type": "markdown",
   "metadata": {},
   "source": [
    "Let's clean the data set a little bit. We will only keep the US movies since some of the gross revenues for movies from other countries are not reported in dollars. We will also only keep the imdb score and gross revenue variables for our analysis and drop the rest. I also informally convert the movie gross sales revenue in terms of 2017 dollar by assuming a $2.5\\%$ yearly inflation rate. (To formally convert to 2017 dollars we would need to use consumer price index data from the US bureau of labour statistics)"
   ]
  },
  {
   "cell_type": "code",
   "execution_count": 40,
   "metadata": {},
   "outputs": [
    {
     "data": {
      "text/html": [
       "<div>\n",
       "<style>\n",
       "    .dataframe thead tr:only-child th {\n",
       "        text-align: right;\n",
       "    }\n",
       "\n",
       "    .dataframe thead th {\n",
       "        text-align: left;\n",
       "    }\n",
       "\n",
       "    .dataframe tbody tr th {\n",
       "        vertical-align: top;\n",
       "    }\n",
       "</style>\n",
       "<table border=\"1\" class=\"dataframe\">\n",
       "  <thead>\n",
       "    <tr style=\"text-align: right;\">\n",
       "      <th></th>\n",
       "      <th>gross</th>\n",
       "      <th>imdb_score</th>\n",
       "    </tr>\n",
       "  </thead>\n",
       "  <tbody>\n",
       "    <tr>\n",
       "      <th>count</th>\n",
       "      <td>3235.000000</td>\n",
       "      <td>3807.000000</td>\n",
       "    </tr>\n",
       "    <tr>\n",
       "      <th>mean</th>\n",
       "      <td>79.764661</td>\n",
       "      <td>6.367428</td>\n",
       "    </tr>\n",
       "    <tr>\n",
       "      <th>std</th>\n",
       "      <td>109.842143</td>\n",
       "      <td>1.125015</td>\n",
       "    </tr>\n",
       "    <tr>\n",
       "      <th>min</th>\n",
       "      <td>0.001044</td>\n",
       "      <td>1.600000</td>\n",
       "    </tr>\n",
       "    <tr>\n",
       "      <th>25%</th>\n",
       "      <td>14.132349</td>\n",
       "      <td>5.700000</td>\n",
       "    </tr>\n",
       "    <tr>\n",
       "      <th>50%</th>\n",
       "      <td>44.210734</td>\n",
       "      <td>6.500000</td>\n",
       "    </tr>\n",
       "    <tr>\n",
       "      <th>75%</th>\n",
       "      <td>102.207258</td>\n",
       "      <td>7.100000</td>\n",
       "    </tr>\n",
       "    <tr>\n",
       "      <th>max</th>\n",
       "      <td>1363.206376</td>\n",
       "      <td>9.300000</td>\n",
       "    </tr>\n",
       "  </tbody>\n",
       "</table>\n",
       "</div>"
      ],
      "text/plain": [
       "             gross   imdb_score\n",
       "count  3235.000000  3807.000000\n",
       "mean     79.764661     6.367428\n",
       "std     109.842143     1.125015\n",
       "min       0.001044     1.600000\n",
       "25%      14.132349     5.700000\n",
       "50%      44.210734     6.500000\n",
       "75%     102.207258     7.100000\n",
       "max    1363.206376     9.300000"
      ]
     },
     "execution_count": 40,
     "metadata": {},
     "output_type": "execute_result"
    }
   ],
   "source": [
    "# Only keep data on movies from the US\n",
    "movie_data = movie_data[movie_data['country'] == \"USA\"]\n",
    "\n",
    "# Assuming a average US inflation rate of 2.5%, we convert gross revenue in terms of 2017 dollars\n",
    "movie_data[['gross']] = (1.025**(2017-movie_data['title_year']))*movie_data['gross']\n",
    "\n",
    "# Only keep the variables of interest, 'imdb_score' and 'gross'\n",
    "movie_data = movie_data[['gross','imdb_score']]\n",
    "\n",
    "# Let's scale the gross revenue to be in millions of dollars so its easier to read\n",
    "movie_data[['gross']] = movie_data[['gross']]/1000000\n",
    "\n",
    "# Summary statistics\n",
    "movie_data.describe()"
   ]
  },
  {
   "cell_type": "markdown",
   "metadata": {},
   "source": [
    "From the above summary statistics, we notice the average IMDB US movie rating is 6.4, and average gross sales revenue is about 80 million."
   ]
  },
  {
   "cell_type": "code",
   "execution_count": 42,
   "metadata": {},
   "outputs": [
    {
     "data": {
      "image/png": "[encoded data removed]",
      "text/plain": [
       "<matplotlib.figure.Figure at 0x1077e5ad0>"
      ]
     },
     "metadata": {},
     "output_type": "display_data"
    }
   ],
   "source": [
    "# Visualize data\n",
    "plt.scatter(movie_data['imdb_score'], movie_data['gross'])\n",
    "\n",
    "# Chart title\n",
    "plt.title('IMDB Rating and Gross Sales')\n",
    "\n",
    "# y label\n",
    "plt.ylabel('Gross sales revenue ($ millions)')\n",
    "\n",
    "# x label\n",
    "plt.xlabel('IMDB Rating (0 - 10)')\n",
    "\n",
    "plt.show()"
   ]
  },
  {
   "cell_type": "markdown",
   "metadata": {},
   "source": [
    "## Linear regression model\n",
    "We want to fit a \"line of best fit\" to the above scatter plot. In particular, we want to model the relationship between IMDB rating and gross movie sales as $$GrossSales_{i} = \\beta_{0} + \\beta_{1}IMDBRating_{i} + \\epsilon_{i},$$ where $\\epsilon_{i}$ is a random error term with mean 0. We would like to estimate values for $\\beta = (\\beta_1, \\beta_2)$ that \"best fits\" the data. To define fitness, we will use the square loss function. That is the sum of square error is $$SSE = \\frac{1}{2n}\\sum_{i=1}^{n} (GrossSales_{i} - \\hat{GrossSales_{i}})^2,$$ where $\\hat{GrossSales_{i}}$ is the predicted gross revenue of movie $i$ from our linear model. More precisely, $$\\hat{GrossSales_{i}} = \\hat{\\beta_{0}} + \\hat{\\beta_{1}}IMDBRating_{i}.$$ The basic idea here is that we want to chose $\\hat{\\beta} = (\\hat{\\beta_1}, \\hat{\\beta_2})$ so that SSE is small as possible and that will be resulting \"line of best fit\""
   ]
  },
  {
   "cell_type": "markdown",
   "metadata": {},
   "source": [
    "# Newton's method for linear regression model"
   ]
  },
  {
   "cell_type": "code",
   "execution_count": null,
   "metadata": {
    "collapsed": true
   },
   "outputs": [],
   "source": []
  }
 ],
 "metadata": {
  "kernelspec": {
   "display_name": "Python 2",
   "language": "python",
   "name": "python2"
  },
  "language_info": {
   "codemirror_mode": {
    "name": "ipython",
    "version": 2
   },
   "file_extension": ".py",
   "mimetype": "text/x-python",
   "name": "python",
   "nbconvert_exporter": "python",
   "pygments_lexer": "ipython2",
   "version": "2.7.12"
  }
 },
 "nbformat": 4,
 "nbformat_minor": 2
}
