{
 "cells": [
  {
   "cell_type": "markdown",
   "metadata": {},
   "source": [
    "# Self Organizing Map for Data Visualization and Clustering"
   ]
  },
  {
   "cell_type": "markdown",
   "metadata": {},
   "source": [
    "## Introduction\n",
    "A Self Organizing Map (SOM) is a type of neural network that is trained using unsupervised learning. In contrast to a standard neural network a SOM only has input and output layer (no hidden layer), and is trained using competetive learning (not minimizing error using backpropogation). It is used to visualize high dimensional data in lower dimensions (usually two dimensions) and classify observations into clusters. SOM preserve the topology of the training data when mapping it to a lower demensional space, hence the grouping patterns in the lower demsional data will be consistent to the original training data. \n",
    "\n",
    "SOM methadology has similarities to Principal Components Analysis (PCA is used for demensionality reduction) and K-Means (used for clustering). In K-means the initialized centroids get updated over itterations independantly, but in SOM a subset of the centroids get updated together (more on this below). In PCA the orginal training data is projected onto a linear surface (line, plane, hyperplane), but this linear projection constraint does not apply to SOM."
   ]
  },
  {
   "cell_type": "markdown",
   "metadata": {},
   "source": [
    "## Application of Self Organizing Maps"
   ]
  },
  {
   "cell_type": "markdown",
   "metadata": {},
   "source": [
    "## Problem and Data"
   ]
  },
  {
   "cell_type": "markdown",
   "metadata": {},
   "source": [
    "## Algorithm to implement Self Organizing Map"
   ]
  },
  {
   "cell_type": "code",
   "execution_count": null,
   "metadata": {
    "collapsed": true
   },
   "outputs": [],
   "source": []
  }
 ],
 "metadata": {
  "kernelspec": {
   "display_name": "Python 2",
   "language": "python",
   "name": "python2"
  },
  "language_info": {
   "codemirror_mode": {
    "name": "ipython",
    "version": 2
   },
   "file_extension": ".py",
   "mimetype": "text/x-python",
   "name": "python",
   "nbconvert_exporter": "python",
   "pygments_lexer": "ipython2",
   "version": "2.7.12"
  }
 },
 "nbformat": 4,
 "nbformat_minor": 2
}
