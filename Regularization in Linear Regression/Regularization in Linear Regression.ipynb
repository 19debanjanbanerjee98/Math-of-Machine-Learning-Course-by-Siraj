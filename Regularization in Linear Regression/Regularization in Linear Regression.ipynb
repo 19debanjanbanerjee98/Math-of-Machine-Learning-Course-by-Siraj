{
 "cells": [
  {
   "cell_type": "markdown",
   "metadata": {},
   "source": [
    "# Regularization in Linear Regression\n",
    "\n",
    "## Introduction \n",
    "Linear regression is very popular statistical model that is used to represent the relationship between some outcome variable $y_i$ and covariates (also known as features, explanatory variables, and independent variables) $x = (x_{1i}, x_{2i}, \\ldots, x_{ki})$ using linear weights $\\beta = (\\beta_{0}, \\beta_{1}, \\ldots, \\beta_{k}).$ The weights are choosen in a way such that the function $$f(x;\\beta) = \\beta_{0} + \\beta_{1}x_{1i} + \\ldots + \\beta_{k}x_{ki},$$ for $i = 1, \\ldots, n$ best fits the data. Then this function can be used to predict outcome $y_{i}$ given any covariates $x_{1i}, \\ldots, x_{ki}.$ However a caveat for using linear regression for prediction is that the model may \"overfit\" the data and may not be generalizable. Overfitting occurs when the model captures too much of the noise in the data which cannot generalize outside of sample. We will discuss a popular remedy to the overfitting problem, regularization. Intuitively speaking, regularlization is a method of changing the standard definition of a model \"best fitting\" the data in a way that its predictions are more generalizable to new data sets. "
   ]
  },
  {
   "cell_type": "markdown",
   "metadata": {},
   "source": [
    "## Overfitting in linear regression\n"
   ]
  },
  {
   "cell_type": "markdown",
   "metadata": {},
   "source": [
    "## Regularization methods"
   ]
  },
  {
   "cell_type": "markdown",
   "metadata": {},
   "source": [
    "## Data Description"
   ]
  }
 ],
 "metadata": {
  "kernelspec": {
   "display_name": "Python 2",
   "language": "python",
   "name": "python2"
  },
  "language_info": {
   "codemirror_mode": {
    "name": "ipython",
    "version": 2
   },
   "file_extension": ".py",
   "mimetype": "text/x-python",
   "name": "python",
   "nbconvert_exporter": "python",
   "pygments_lexer": "ipython2",
   "version": "2.7.12"
  }
 },
 "nbformat": 4,
 "nbformat_minor": 2
}
